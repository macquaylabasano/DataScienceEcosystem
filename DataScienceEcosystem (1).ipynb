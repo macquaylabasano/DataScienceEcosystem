{
 "cells": [
  {
   "cell_type": "markdown",
   "id": "e88bbba1-7dc9-4956-960b-b181e92135d0",
   "metadata": {
    "tags": []
   },
   "source": [
    "# Data Science Tools and Ecosystem"
   ]
  },
  {
   "cell_type": "markdown",
   "id": "de1c5191-a1db-46a1-8374-e4ab0821c6c2",
   "metadata": {},
   "source": [
    "In this notebook, Data Science Tools and Ecosystem are summarized."
   ]
  },
  {
   "cell_type": "markdown",
   "id": "2ee4fc31-3d1e-43b6-a9f3-60530f1e5f90",
   "metadata": {},
   "source": [
    "Some of the popular languages that Data Scientists use are:\n",
    "    \n",
    "1. Python\n",
    "2. R\n",
    "3. SQL\n",
    "4. C++\n",
    "5. Java"
   ]
  },
  {
   "cell_type": "markdown",
   "id": "495f6a52-78f4-4326-9ed9-02262841ecac",
   "metadata": {},
   "source": [
    "Some of the commonly used libraries used by Data Scientist include:\n",
    "\n",
    "1. TensorFlow\n",
    "2. NumpPy\n",
    "3. SciPy\n",
    "4. Pandas\n",
    "5. Matplotlib\n",
    "6. Keras\n",
    "7. SciKit-Learn\n",
    "8. Pytorch"
   ]
  },
  {
   "cell_type": "markdown",
   "id": "2cb29165-c15d-4859-ac17-474369d175ee",
   "metadata": {
    "tags": []
   },
   "source": [
    "|Data Science Tools|\n",
    "|---|\n",
    "|SAS|\n",
    "|Apache Hadoop|\n",
    "|Tensor Flow|"
   ]
  },
  {
   "cell_type": "markdown",
   "id": "8683ec0e-de0e-4278-b86a-d3153a885fd7",
   "metadata": {},
   "source": [
    "### Below are a few examples of evaluating arithmetic expressions in Python"
   ]
  },
  {
   "cell_type": "code",
   "execution_count": 4,
   "id": "2c1b3d3c-97e2-48e4-86b2-188ca648ff3c",
   "metadata": {
    "tags": []
   },
   "outputs": [
    {
     "data": {
      "text/plain": [
       "37"
      ]
     },
     "execution_count": 4,
     "metadata": {},
     "output_type": "execute_result"
    }
   ],
   "source": [
    "#this is a common arithmetic example to multiply and then add integers\n",
    "(5*6)+7"
   ]
  },
  {
   "cell_type": "code",
   "execution_count": 5,
   "id": "89243d3b-9ee2-4c23-a898-226a756d15be",
   "metadata": {
    "tags": []
   },
   "outputs": [
    {
     "data": {
      "text/plain": [
       "3.3333333333333335"
      ]
     },
     "execution_count": 5,
     "metadata": {},
     "output_type": "execute_result"
    }
   ],
   "source": [
    "#this will convert 200 minutes into hours by dividing by 60\n",
    "200/60"
   ]
  },
  {
   "cell_type": "markdown",
   "id": "3aaf0b0a-ba58-418c-be6d-5feb626f82de",
   "metadata": {},
   "source": [
    "_Objective_\n",
    "* List popular languages for Data Science.\n",
    "* List popular libraries for Data Science.\n",
    "* List of well-known Data Science tools.\n",
    "* How to provide comments in the cells."
   ]
  },
  {
   "cell_type": "markdown",
   "id": "5723e3df-49f3-4dec-95d2-fd49a384138b",
   "metadata": {},
   "source": [
    "## Author\n",
    "Mac Quay P. Labasano"
   ]
  }
 ],
 "metadata": {
  "kernelspec": {
   "display_name": "Python",
   "language": "python",
   "name": "conda-env-python-py"
  },
  "language_info": {
   "codemirror_mode": {
    "name": "ipython",
    "version": 3
   },
   "file_extension": ".py",
   "mimetype": "text/x-python",
   "name": "python",
   "nbconvert_exporter": "python",
   "pygments_lexer": "ipython3",
   "version": "3.7.12"
  }
 },
 "nbformat": 4,
 "nbformat_minor": 5
}
